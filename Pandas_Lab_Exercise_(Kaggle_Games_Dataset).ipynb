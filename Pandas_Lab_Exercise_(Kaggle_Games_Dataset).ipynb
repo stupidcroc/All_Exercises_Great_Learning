{
  "nbformat": 4,
  "nbformat_minor": 0,
  "metadata": {
    "colab": {
      "name": "Pandas Lab Exercise (Kaggle Games Dataset).ipynb",
      "version": "0.3.2",
      "provenance": []
    },
    "kernelspec": {
      "display_name": "Python 3",
      "language": "python",
      "name": "python3"
    }
  },
  "cells": [
    {
      "metadata": {
        "id": "icyqXlNK39aW",
        "colab_type": "text"
      },
      "cell_type": "markdown",
      "source": [
        "# Pandas Lab Exercise - Solutions\n",
        "\n",
        "\n",
        "## Part - 1\n",
        "We shall now test your skills in using Pandas package. We will be using the [games Dataset](https://www.kaggle.com/gutsyrobot/games-data/data) from Kaggle. \n",
        "\n",
        "Answer each question asked below wrt the games dataset."
      ]
    },
    {
      "metadata": {
        "id": "NN-M1l8_39aY",
        "colab_type": "text"
      },
      "cell_type": "markdown",
      "source": [
        "** Import pandas as pd.**"
      ]
    },
    {
      "metadata": {
        "id": "24lNC-X439aZ",
        "colab_type": "code",
        "colab": {}
      },
      "cell_type": "code",
      "source": [
        ""
      ],
      "execution_count": 0,
      "outputs": []
    },
    {
      "metadata": {
        "id": "q6qomEtr39ad",
        "colab_type": "text"
      },
      "cell_type": "markdown",
      "source": [
        "** Read games.csv as a dataframe called games.**"
      ]
    },
    {
      "metadata": {
        "id": "R4gGNY5439ae",
        "colab_type": "code",
        "colab": {}
      },
      "cell_type": "code",
      "source": [
        ""
      ],
      "execution_count": 0,
      "outputs": []
    },
    {
      "metadata": {
        "id": "fy6to3cp39ag",
        "colab_type": "text"
      },
      "cell_type": "markdown",
      "source": [
        "** Check the head of the DataFrame. **"
      ]
    },
    {
      "metadata": {
        "id": "oSJXg99E39ah",
        "colab_type": "code",
        "colab": {}
      },
      "cell_type": "code",
      "source": [
        ""
      ],
      "execution_count": 0,
      "outputs": []
    },
    {
      "metadata": {
        "id": "kchMeESY39aj",
        "colab_type": "text"
      },
      "cell_type": "markdown",
      "source": [
        "** Use .info() method to find out total number of entries in dataset**"
      ]
    },
    {
      "metadata": {
        "id": "vqw0iuHE39aj",
        "colab_type": "code",
        "colab": {}
      },
      "cell_type": "code",
      "source": [
        ""
      ],
      "execution_count": 0,
      "outputs": []
    },
    {
      "metadata": {
        "id": "pb_jcBlV39al",
        "colab_type": "text"
      },
      "cell_type": "markdown",
      "source": [
        "**What is the mean playin time for all games put together ?**"
      ]
    },
    {
      "metadata": {
        "id": "VlUtAjms39am",
        "colab_type": "code",
        "colab": {}
      },
      "cell_type": "code",
      "source": [
        ""
      ],
      "execution_count": 0,
      "outputs": []
    },
    {
      "metadata": {
        "id": "88dyU2NZ39ao",
        "colab_type": "text"
      },
      "cell_type": "markdown",
      "source": [
        "** What is the highest number of comments received for a game? **"
      ]
    },
    {
      "metadata": {
        "id": "dsFCrv6B39ap",
        "colab_type": "code",
        "colab": {}
      },
      "cell_type": "code",
      "source": [
        ""
      ],
      "execution_count": 0,
      "outputs": []
    },
    {
      "metadata": {
        "id": "iZ5r64Vl39ar",
        "colab_type": "text"
      },
      "cell_type": "markdown",
      "source": [
        "** What is the name of the game with id 1500?  **"
      ]
    },
    {
      "metadata": {
        "id": "q-pHJCzG39as",
        "colab_type": "code",
        "colab": {}
      },
      "cell_type": "code",
      "source": [
        ""
      ],
      "execution_count": 0,
      "outputs": []
    },
    {
      "metadata": {
        "id": "VXo7npwp39av",
        "colab_type": "text"
      },
      "cell_type": "markdown",
      "source": [
        "** And which year was it published? **"
      ]
    },
    {
      "metadata": {
        "id": "u3curcuE39av",
        "colab_type": "code",
        "colab": {}
      },
      "cell_type": "code",
      "source": [
        ""
      ],
      "execution_count": 0,
      "outputs": []
    },
    {
      "metadata": {
        "id": "y3WAIIVq39ay",
        "colab_type": "text"
      },
      "cell_type": "markdown",
      "source": [
        "** Which game has received highest number of comments? **"
      ]
    },
    {
      "metadata": {
        "id": "LLR53F5E39az",
        "colab_type": "code",
        "colab": {}
      },
      "cell_type": "code",
      "source": [
        ""
      ],
      "execution_count": 0,
      "outputs": []
    },
    {
      "metadata": {
        "id": "ADSNSu7539a1",
        "colab_type": "text"
      },
      "cell_type": "markdown",
      "source": [
        "** Which games have received least number of comments? **"
      ]
    },
    {
      "metadata": {
        "id": "4C2ICmLZ39a2",
        "colab_type": "code",
        "colab": {}
      },
      "cell_type": "code",
      "source": [
        ""
      ],
      "execution_count": 0,
      "outputs": []
    },
    {
      "metadata": {
        "id": "kP0A-2EP39a5",
        "colab_type": "text"
      },
      "cell_type": "markdown",
      "source": [
        "** What was the average minage of all games per game \"type\"? (boardgame & boardgameexpansion)**"
      ]
    },
    {
      "metadata": {
        "id": "QRganLpp39a6",
        "colab_type": "code",
        "colab": {}
      },
      "cell_type": "code",
      "source": [
        ""
      ],
      "execution_count": 0,
      "outputs": []
    },
    {
      "metadata": {
        "id": "mX9uNVSB39a9",
        "colab_type": "text"
      },
      "cell_type": "markdown",
      "source": [
        "** How many unique games are there in the dataset? **"
      ]
    },
    {
      "metadata": {
        "id": "7z1SNNVX39a-",
        "colab_type": "code",
        "colab": {}
      },
      "cell_type": "code",
      "source": [
        ""
      ],
      "execution_count": 0,
      "outputs": []
    },
    {
      "metadata": {
        "id": "yLq2RmmY39bA",
        "colab_type": "text"
      },
      "cell_type": "markdown",
      "source": [
        "** How many boardgames and boardgameexpansions are there in the dataset?  **"
      ]
    },
    {
      "metadata": {
        "id": "aTorLWJE39bA",
        "colab_type": "code",
        "colab": {}
      },
      "cell_type": "code",
      "source": [
        ""
      ],
      "execution_count": 0,
      "outputs": []
    },
    {
      "metadata": {
        "id": "eYC0ZVBF39bD",
        "colab_type": "text"
      },
      "cell_type": "markdown",
      "source": [
        "** Is there a correlation between playing time and total comments for the games? - Use the .corr() function **"
      ]
    },
    {
      "metadata": {
        "id": "2Trn1FuW39bE",
        "colab_type": "code",
        "colab": {}
      },
      "cell_type": "code",
      "source": [
        ""
      ],
      "execution_count": 0,
      "outputs": []
    },
    {
      "metadata": {
        "id": "wI1-ePur39bH",
        "colab_type": "text"
      },
      "cell_type": "markdown",
      "source": [
        "## Part 2\n",
        "## Inferential Statistical Analysis\n",
        "\n",
        "A Brand new Gaming Design Company has entered the Market in year 2015. They are interested in Analyzing the Amount of Time Gamers spend for each Game Type and check if the players spend equal Time on both Types.\n",
        "\n",
        "Analyze the same using a suitable Two Sample Test at 95% Confidence.\n",
        "\n",
        "The following points are necessarily to be adhered.\n",
        "\n",
        "  - Clean Data\n",
        "  - Transform Data(as required)\n",
        "  - Visualize Data(Draw as many patterns, not limited to Histograms & Boxplots only) - Minimum Requirement of 5 different Visualizations apart from Histograms & Boxplots to be created.\n",
        "  - Model the Data with the correct hypothesis statement\n",
        "  - Conclude on your results based on the outcome of experiment\n",
        "  - Calculate power of test and interpret the same\n",
        "  \n",
        " "
      ]
    },
    {
      "metadata": {
        "id": "cpz0KHUR39bI",
        "colab_type": "text"
      },
      "cell_type": "markdown",
      "source": [
        "### The END"
      ]
    }
  ]
}