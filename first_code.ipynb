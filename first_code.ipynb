{
 "cells": [
  {
   "cell_type": "code",
   "execution_count": 8,
   "metadata": {},
   "outputs": [
    {
     "name": "stdout",
     "output_type": "stream",
     "text": [
      "Hello world\n",
      "Lets do it\n"
     ]
    }
   ],
   "source": [
    "print ('Hello world')\n",
    "print('Lets do it')"
   ]
  },
  {
   "cell_type": "code",
   "execution_count": 9,
   "metadata": {},
   "outputs": [],
   "source": [
    "import numpy as np\n",
    "import pandas as pd\n",
    "#numpy helps in the multidimensional array handling\n",
    "#pands -> datafrome handling\n",
    "#Matplotlib-> Visualization packages\n",
    "#Scipy-> Statistical maodel"
   ]
  },
  {
   "cell_type": "code",
   "execution_count": 10,
   "metadata": {},
   "outputs": [
    {
     "name": "stdout",
     "output_type": "stream",
     "text": [
      "c value 11\n",
      "addition 11\n",
      "subtraction -1\n",
      "multiply 30\n",
      "divide 0.8333333333333334\n",
      "float value 5.0\n",
      "hex value 0x6\n",
      "oct_val 0o70\n"
     ]
    }
   ],
   "source": [
    "#addition\n",
    "a = 5\n",
    "b = 6\n",
    "c = a + b\n",
    "print('c value',c)\n",
    "print('addition', a + b)\n",
    "\n",
    "#subtraction\n",
    "print(\"subtraction\", a - b)\n",
    "\n",
    "#multiplication\n",
    "print('multiply', a * b)\n",
    "\n",
    "#divide\n",
    "print ('divide', a / b)\n",
    "\n",
    "float_var = float(a)\n",
    "print ('float value', float_var)\n",
    "\n",
    "hex_val = hex(b)\n",
    "print ('hex value', hex_val)\n",
    "\n",
    "d = 56\n",
    "oct_val = oct(d)\n",
    "print ('oct_val' , oct_val)"
   ]
  },
  {
   "cell_type": "code",
   "execution_count": 11,
   "metadata": {},
   "outputs": [
    {
     "data": {
      "text/plain": [
       "array([1, 2, 3, 4])"
      ]
     },
     "execution_count": 11,
     "metadata": {},
     "output_type": "execute_result"
    }
   ],
   "source": [
    "#Numpy creation of matrices and the vectors array\n",
    "simple_list = [1, 2, 3, 4]\n",
    "simple_list\n",
    "np.array(simple_list)"
   ]
  },
  {
   "cell_type": "code",
   "execution_count": 12,
   "metadata": {},
   "outputs": [
    {
     "data": {
      "text/plain": [
       "array([ 0,  1,  2,  3,  4,  5,  6,  7,  8,  9, 10, 11, 12, 13, 14, 15, 16,\n",
       "       17, 18, 19, 20, 21, 22, 23, 24, 25, 26, 27, 28, 29, 30, 31, 32, 33,\n",
       "       34, 35, 36, 37, 38, 39, 40, 41, 42, 43, 44])"
      ]
     },
     "execution_count": 12,
     "metadata": {},
     "output_type": "execute_result"
    }
   ],
   "source": [
    "#creation of the range values for the same\n",
    "np.arange(0,45)"
   ]
  },
  {
   "cell_type": "code",
   "execution_count": 13,
   "metadata": {},
   "outputs": [
    {
     "data": {
      "text/plain": [
       "array([0., 0., 0., 0., 0., 0., 0., 0., 0., 0., 0., 0., 0., 0., 0., 0., 0.,\n",
       "       0., 0., 0., 0., 0., 0., 0., 0., 0., 0., 0., 0., 0., 0.])"
      ]
     },
     "execution_count": 13,
     "metadata": {},
     "output_type": "execute_result"
    }
   ],
   "source": [
    "#creation of the zeroes\n",
    "np.zeros(31)"
   ]
  },
  {
   "cell_type": "code",
   "execution_count": 14,
   "metadata": {},
   "outputs": [
    {
     "data": {
      "text/plain": [
       "array([1., 1., 1., 1., 1., 1., 1., 1., 1., 1., 1., 1., 1., 1., 1., 1., 1.,\n",
       "       1., 1., 1., 1., 1., 1., 1.])"
      ]
     },
     "execution_count": 14,
     "metadata": {},
     "output_type": "execute_result"
    }
   ],
   "source": [
    "#creation of the ones\n",
    "np.ones(24)"
   ]
  },
  {
   "cell_type": "code",
   "execution_count": 15,
   "metadata": {},
   "outputs": [
    {
     "data": {
      "text/plain": [
       "array([[1., 0., 0., 0., 0.],\n",
       "       [0., 1., 0., 0., 0.],\n",
       "       [0., 0., 1., 0., 0.],\n",
       "       [0., 0., 0., 1., 0.],\n",
       "       [0., 0., 0., 0., 1.]])"
      ]
     },
     "execution_count": 15,
     "metadata": {},
     "output_type": "execute_result"
    }
   ],
   "source": [
    "#creation of the identity matrix\n",
    "np.eye(5)"
   ]
  },
  {
   "cell_type": "code",
   "execution_count": 16,
   "metadata": {},
   "outputs": [
    {
     "data": {
      "text/plain": [
       "array([ 4,  9, 14, 19, 24, 29, 34, 39, 44, 49, 54])"
      ]
     },
     "execution_count": 16,
     "metadata": {},
     "output_type": "execute_result"
    }
   ],
   "source": [
    "#range in the step size\n",
    "np.arange(4,55,5)"
   ]
  },
  {
   "cell_type": "code",
   "execution_count": 17,
   "metadata": {},
   "outputs": [
    {
     "data": {
      "text/plain": [
       "array([0.28236218, 0.19460779, 0.97648022, 0.8916523 , 0.13663979,\n",
       "       0.27866984])"
      ]
     },
     "execution_count": 17,
     "metadata": {},
     "output_type": "execute_result"
    }
   ],
   "source": [
    "#genration of the random variables\n",
    "np.random.rand(6)"
   ]
  },
  {
   "cell_type": "code",
   "execution_count": 18,
   "metadata": {},
   "outputs": [
    {
     "data": {
      "text/plain": [
       "array([[0.82979397, 0.88629321, 0.27071915, 0.76375288, 0.91179043],\n",
       "       [0.75748142, 0.09650623, 0.69404368, 0.08333376, 0.09224351],\n",
       "       [0.04675529, 0.84086369, 0.70699501, 0.42240727, 0.16169162],\n",
       "       [0.45618527, 0.22140612, 0.58608982, 0.62555749, 0.98433767]])"
      ]
     },
     "execution_count": 18,
     "metadata": {},
     "output_type": "execute_result"
    }
   ],
   "source": [
    "np.random.rand(4,5)"
   ]
  },
  {
   "cell_type": "code",
   "execution_count": 19,
   "metadata": {},
   "outputs": [
    {
     "data": {
      "text/plain": [
       "array([[ 1.0202586 ,  0.28388841,  0.96774424, -0.69902996,  0.48258724],\n",
       "       [ 0.65869543,  1.76075324, -0.78512232,  1.23090354, -0.3645538 ],\n",
       "       [-0.70253652,  1.45919195,  0.19272573,  1.36951567, -0.427349  ],\n",
       "       [-0.68464089,  1.91413646, -0.29463382, -0.65209727, -0.8153313 ]])"
      ]
     },
     "execution_count": 19,
     "metadata": {},
     "output_type": "execute_result"
    }
   ],
   "source": [
    "np.random.randn(4,5)"
   ]
  },
  {
   "cell_type": "code",
   "execution_count": 20,
   "metadata": {},
   "outputs": [
    {
     "data": {
      "text/plain": [
       "array([ 0.  ,  5.75, 11.5 , 17.25, 23.  ])"
      ]
     },
     "execution_count": 20,
     "metadata": {},
     "output_type": "execute_result"
    }
   ],
   "source": [
    "#generation of the equally spaced values with on actual array\n",
    "np.linspace(0,23,5)"
   ]
  },
  {
   "cell_type": "code",
   "execution_count": 23,
   "metadata": {},
   "outputs": [
    {
     "data": {
      "text/plain": [
       "[[], [], []]"
      ]
     },
     "execution_count": 23,
     "metadata": {},
     "output_type": "execute_result"
    }
   ],
   "source": [
    "lsit_ofz_lists = [[],[],[]]\n",
    "lsit_ofz_lists"
   ]
  },
  {
   "cell_type": "code",
   "execution_count": 26,
   "metadata": {},
   "outputs": [
    {
     "data": {
      "text/plain": [
       "array([[  5,   6,  15],\n",
       "       [ 12,  52, 223],\n",
       "       [ 12,  25,  55]])"
      ]
     },
     "execution_count": 26,
     "metadata": {},
     "output_type": "execute_result"
    }
   ],
   "source": [
    "lsit_ofz_lists = [[5, 6, 15],[12, 52, 223],[12, 25, 55]]\n",
    "lsit_ofz_lists\n",
    "np.array(lsit_ofz_lists)"
   ]
  },
  {
   "cell_type": "code",
   "execution_count": 29,
   "metadata": {},
   "outputs": [
    {
     "data": {
      "text/plain": [
       "1038"
      ]
     },
     "execution_count": 29,
     "metadata": {},
     "output_type": "execute_result"
    }
   ],
   "source": [
    "#random generation from one number till the other\n",
    "np.random.randint(19,2019)"
   ]
  },
  {
   "cell_type": "code",
   "execution_count": 30,
   "metadata": {},
   "outputs": [
    {
     "data": {
      "text/plain": [
       "array([22486, 22923,  3049, 23992,  3429, 18172, 24833, 10600, 12833,\n",
       "        7229])"
      ]
     },
     "execution_count": 30,
     "metadata": {},
     "output_type": "execute_result"
    }
   ],
   "source": [
    "#random generation from one number till the other with certain steps\n",
    "np.random.randint(10,29876,10)"
   ]
  },
  {
   "cell_type": "code",
   "execution_count": 31,
   "metadata": {},
   "outputs": [
    {
     "data": {
      "text/plain": [
       "array([ 772,  203,  132, 4524,  588,  692, 1430, 3597])"
      ]
     },
     "execution_count": 31,
     "metadata": {},
     "output_type": "execute_result"
    }
   ],
   "source": [
    "#taking the random value in other variable\n",
    "random_array_001 = np.random.randint(10,5529,8)\n",
    "random_array_001"
   ]
  },
  {
   "cell_type": "code",
   "execution_count": 38,
   "metadata": {},
   "outputs": [
    {
     "data": {
      "text/plain": [
       "array([ 4, 25,  3,  8,  2, 23])"
      ]
     },
     "execution_count": 38,
     "metadata": {},
     "output_type": "execute_result"
    }
   ],
   "source": [
    "#min, max, argmax, variance, std deviation and argmin of the variables\n",
    "random_array_002 = np.random.randint(2, 32, 6)\n",
    "random_array_002"
   ]
  },
  {
   "cell_type": "code",
   "execution_count": 39,
   "metadata": {},
   "outputs": [
    {
     "data": {
      "text/plain": [
       "25"
      ]
     },
     "execution_count": 39,
     "metadata": {},
     "output_type": "execute_result"
    }
   ],
   "source": [
    "random_array_002.max()"
   ]
  },
  {
   "cell_type": "code",
   "execution_count": 40,
   "metadata": {},
   "outputs": [
    {
     "data": {
      "text/plain": [
       "2"
      ]
     },
     "execution_count": 40,
     "metadata": {},
     "output_type": "execute_result"
    }
   ],
   "source": [
    "random_array_002.min()"
   ]
  },
  {
   "cell_type": "code",
   "execution_count": 41,
   "metadata": {},
   "outputs": [
    {
     "data": {
      "text/plain": [
       "90.47222222222221"
      ]
     },
     "execution_count": 41,
     "metadata": {},
     "output_type": "execute_result"
    }
   ],
   "source": [
    "random_array_002.var()"
   ]
  },
  {
   "cell_type": "code",
   "execution_count": 42,
   "metadata": {},
   "outputs": [
    {
     "data": {
      "text/plain": [
       "9.51168871558685"
      ]
     },
     "execution_count": 42,
     "metadata": {},
     "output_type": "execute_result"
    }
   ],
   "source": [
    "random_array_002.std()"
   ]
  },
  {
   "cell_type": "code",
   "execution_count": 43,
   "metadata": {},
   "outputs": [
    {
     "data": {
      "text/plain": [
       "4"
      ]
     },
     "execution_count": 43,
     "metadata": {},
     "output_type": "execute_result"
    }
   ],
   "source": [
    "random_array_002.argmin()"
   ]
  },
  {
   "cell_type": "code",
   "execution_count": 44,
   "metadata": {},
   "outputs": [
    {
     "data": {
      "text/plain": [
       "1"
      ]
     },
     "execution_count": 44,
     "metadata": {},
     "output_type": "execute_result"
    }
   ],
   "source": [
    "random_array_002.argmax()"
   ]
  },
  {
   "cell_type": "code",
   "execution_count": 57,
   "metadata": {},
   "outputs": [
    {
     "data": {
      "text/plain": [
       "array([36,  8, 39, 42, 23, 31, 14, 32, 14, 20,  7, 27, 28,  9,  7, 25, 38,\n",
       "       12, 21,  7])"
      ]
     },
     "execution_count": 57,
     "metadata": {},
     "output_type": "execute_result"
    }
   ],
   "source": [
    "#reshapping the array\n",
    "sample_test_array = np.random.randint(5, 44, 20)\n",
    "sample_test_array"
   ]
  },
  {
   "cell_type": "code",
   "execution_count": 58,
   "metadata": {},
   "outputs": [
    {
     "data": {
      "text/plain": [
       "(20,)"
      ]
     },
     "execution_count": 58,
     "metadata": {},
     "output_type": "execute_result"
    }
   ],
   "source": [
    "#matrix shaped in other way\n",
    "sample_test_array.shape"
   ]
  },
  {
   "cell_type": "code",
   "execution_count": 63,
   "metadata": {},
   "outputs": [
    {
     "data": {
      "text/plain": [
       "array([[36],\n",
       "       [ 8],\n",
       "       [39],\n",
       "       [42],\n",
       "       [23],\n",
       "       [31],\n",
       "       [14],\n",
       "       [32],\n",
       "       [14],\n",
       "       [20],\n",
       "       [ 7],\n",
       "       [27],\n",
       "       [28],\n",
       "       [ 9],\n",
       "       [ 7],\n",
       "       [25],\n",
       "       [38],\n",
       "       [12],\n",
       "       [21],\n",
       "       [ 7]])"
      ]
     },
     "execution_count": 63,
     "metadata": {},
     "output_type": "execute_result"
    }
   ],
   "source": [
    "sample_test_array.reshape(20,1)"
   ]
  },
  {
   "cell_type": "code",
   "execution_count": 64,
   "metadata": {},
   "outputs": [
    {
     "data": {
      "text/plain": [
       "dtype('int32')"
      ]
     },
     "execution_count": 64,
     "metadata": {},
     "output_type": "execute_result"
    }
   ],
   "source": [
    "#checking the datatype dtype\n",
    "sample_test_array.dtype"
   ]
  },
  {
   "cell_type": "code",
   "execution_count": 78,
   "metadata": {},
   "outputs": [
    {
     "data": {
      "text/plain": [
       "array([[  3,  85,   9,   6],\n",
       "       [  8,   6,  62,  78],\n",
       "       [ 45,   6,   4, 843],\n",
       "       [ 44,  56,  54,   8]])"
      ]
     },
     "execution_count": 78,
     "metadata": {},
     "output_type": "execute_result"
    }
   ],
   "source": [
    "liste = ([[3, 85, 9, 6],\n",
    "          [8, 6, 62, 78], \n",
    "          [45, 6, 4, 843],\n",
    "          [44, 56, 54, 8]])\n",
    "sample_array_003 = np.array(liste)\n",
    "sample_array_003"
   ]
  },
  {
   "cell_type": "code",
   "execution_count": 79,
   "metadata": {},
   "outputs": [
    {
     "data": {
      "text/plain": [
       "array([[  3,   8,  45,  44],\n",
       "       [ 85,   6,   6,  56],\n",
       "       [  9,  62,   4,  54],\n",
       "       [  6,  78, 843,   8]])"
      ]
     },
     "execution_count": 79,
     "metadata": {},
     "output_type": "execute_result"
    }
   ],
   "source": [
    "sample_array_003.T   #Transpose of a matrix np.array attribute is very essential to \n",
    "                     #convert a list into arrays and do the operation on them"
   ]
  },
  {
   "cell_type": "code",
   "execution_count": 86,
   "metadata": {},
   "outputs": [
    {
     "data": {
      "text/plain": [
       "array([44, 56, 54,  8])"
      ]
     },
     "execution_count": 86,
     "metadata": {},
     "output_type": "execute_result"
    }
   ],
   "source": [
    "sample_array_003[3]  #array starts form index i.e the postion 0 to further"
   ]
  },
  {
   "cell_type": "code",
   "execution_count": 93,
   "metadata": {},
   "outputs": [
    {
     "data": {
      "text/plain": [
       "array([[  8,   6,  62,  78],\n",
       "       [ 45,   6,   4, 843]])"
      ]
     },
     "execution_count": 93,
     "metadata": {},
     "output_type": "execute_result"
    }
   ],
   "source": [
    "sample_array_003[1:3] "
   ]
  },
  {
   "cell_type": "code",
   "execution_count": 94,
   "metadata": {},
   "outputs": [
    {
     "data": {
      "text/plain": [
       "62"
      ]
     },
     "execution_count": 94,
     "metadata": {},
     "output_type": "execute_result"
    }
   ],
   "source": [
    "sample_array_003[1,2]"
   ]
  },
  {
   "cell_type": "code",
   "execution_count": 95,
   "metadata": {},
   "outputs": [
    {
     "data": {
      "text/plain": [
       "array([[  3,  85,   9,   6],\n",
       "       [100, 100, 100, 100],\n",
       "       [ 45,   6,   4, 843],\n",
       "       [ 44,  56,  54,   8]])"
      ]
     },
     "execution_count": 95,
     "metadata": {},
     "output_type": "execute_result"
    }
   ],
   "source": [
    "#Setting a fixed value 100 using index range (Broadcasting)\n",
    "sample_array_003[1:2]=100\n",
    "sample_array_003"
   ]
  },
  {
   "cell_type": "code",
   "execution_count": 97,
   "metadata": {},
   "outputs": [
    {
     "data": {
      "text/plain": [
       "array([[20, 20, 20, 20],\n",
       "       [20, 20, 20, 20],\n",
       "       [20, 20, 20, 20],\n",
       "       [20, 20, 20, 20]])"
      ]
     },
     "execution_count": 97,
     "metadata": {},
     "output_type": "execute_result"
    }
   ],
   "source": [
    "#set all values to certain\n",
    "sample_array_003[:] = 20\n",
    "sample_array_003"
   ]
  },
  {
   "cell_type": "code",
   "execution_count": 99,
   "metadata": {},
   "outputs": [
    {
     "data": {
      "text/plain": [
       "array([[  3,  45,   9,   6],\n",
       "       [  8,   6, 602,   7],\n",
       "       [ 45,   6,  24, 843],\n",
       "       [ 33,  56,  54,   4]])"
      ]
     },
     "execution_count": 99,
     "metadata": {},
     "output_type": "execute_result"
    }
   ],
   "source": [
    "liste1 = ([[3, 45, 9, 6],\n",
    "          [8, 6, 602, 7], \n",
    "          [45, 6, 24, 843],\n",
    "          [33, 56, 54, 4]])\n",
    "array_test12 = np.array(liste1)\n",
    "array_test12"
   ]
  },
  {
   "cell_type": "code",
   "execution_count": 100,
   "metadata": {},
   "outputs": [
    {
     "data": {
      "text/plain": [
       "[[3, 85, 9, 6], [8, 6, 62, 78], [45, 6, 4, 843], [44, 56, 54, 8]]"
      ]
     },
     "execution_count": 100,
     "metadata": {},
     "output_type": "execute_result"
    }
   ],
   "source": [
    "liste"
   ]
  },
  {
   "cell_type": "code",
   "execution_count": 102,
   "metadata": {},
   "outputs": [
    {
     "data": {
      "text/plain": [
       "array([[  3,  45,   9,   6],\n",
       "       [  8,   6, 602,   7],\n",
       "       [ 45,   6,  24, 843],\n",
       "       [ 33,  56,  54,   4]])"
      ]
     },
     "execution_count": 102,
     "metadata": {},
     "output_type": "execute_result"
    }
   ],
   "source": [
    "copy_test_array = array_test12.copy()\n",
    "copy_test_array"
   ]
  },
  {
   "cell_type": "code",
   "execution_count": 103,
   "metadata": {},
   "outputs": [
    {
     "data": {
      "text/plain": [
       "843"
      ]
     },
     "execution_count": 103,
     "metadata": {},
     "output_type": "execute_result"
    }
   ],
   "source": [
    "array_test12[2][3]  #prints that position value"
   ]
  },
  {
   "cell_type": "code",
   "execution_count": 104,
   "metadata": {},
   "outputs": [
    {
     "data": {
      "text/plain": [
       "array([ 45,   6,  24, 843])"
      ]
     },
     "execution_count": 104,
     "metadata": {},
     "output_type": "execute_result"
    }
   ],
   "source": [
    "array_test12[2]  #prints row"
   ]
  },
  {
   "cell_type": "code",
   "execution_count": 105,
   "metadata": {},
   "outputs": [
    {
     "data": {
      "text/plain": [
       "array([[ True,  True,  True,  True],\n",
       "       [ True,  True, False,  True],\n",
       "       [ True,  True,  True, False],\n",
       "       [ True,  True,  True,  True]])"
      ]
     },
     "execution_count": 105,
     "metadata": {},
     "output_type": "execute_result"
    }
   ],
   "source": [
    "array_test12 < 100  #checks in bool for true or false"
   ]
  },
  {
   "cell_type": "code",
   "execution_count": 106,
   "metadata": {},
   "outputs": [
    {
     "data": {
      "text/plain": [
       "array([[ 23,  65,  29,  26],\n",
       "       [ 28,  26, 622,  27],\n",
       "       [ 65,  26,  44, 863],\n",
       "       [ 53,  76,  74,  24]])"
      ]
     },
     "execution_count": 106,
     "metadata": {},
     "output_type": "execute_result"
    }
   ],
   "source": [
    "#arithmetic operation on the array\n",
    "sample_array_003 + array_test12"
   ]
  },
  {
   "cell_type": "code",
   "execution_count": 108,
   "metadata": {},
   "outputs": [
    {
     "data": {
      "text/plain": [
       "array([[  17,  -25,   11,   14],\n",
       "       [  12,   14, -582,   13],\n",
       "       [ -25,   14,   -4, -823],\n",
       "       [ -13,  -36,  -34,   16]])"
      ]
     },
     "execution_count": 108,
     "metadata": {},
     "output_type": "execute_result"
    }
   ],
   "source": [
    "sample_array_003 - array_test12"
   ]
  },
  {
   "cell_type": "code",
   "execution_count": 109,
   "metadata": {},
   "outputs": [
    {
     "data": {
      "text/plain": [
       "array([[6.66666667, 0.44444444, 2.22222222, 3.33333333],\n",
       "       [2.5       , 3.33333333, 0.03322259, 2.85714286],\n",
       "       [0.44444444, 3.33333333, 0.83333333, 0.02372479],\n",
       "       [0.60606061, 0.35714286, 0.37037037, 5.        ]])"
      ]
     },
     "execution_count": 109,
     "metadata": {},
     "output_type": "execute_result"
    }
   ],
   "source": [
    "sample_array_003/array_test12"
   ]
  },
  {
   "cell_type": "code",
   "execution_count": 111,
   "metadata": {},
   "outputs": [
    {
     "data": {
      "text/plain": [
       "array([[   60,   900,   180,   120],\n",
       "       [  160,   120, 12040,   140],\n",
       "       [  900,   120,   480, 16860],\n",
       "       [  660,  1120,  1080,    80]])"
      ]
     },
     "execution_count": 111,
     "metadata": {},
     "output_type": "execute_result"
    }
   ],
   "source": [
    "array_number_001 = sample_array_003*array_test12\n",
    "array_number_001"
   ]
  },
  {
   "cell_type": "code",
   "execution_count": 112,
   "metadata": {},
   "outputs": [
    {
     "data": {
      "text/plain": [
       "array([[  7.74596669,  30.        ,  13.41640786,  10.95445115],\n",
       "       [ 12.64911064,  10.95445115, 109.72693379,  11.83215957],\n",
       "       [ 30.        ,  10.95445115,  21.9089023 , 129.84606271],\n",
       "       [ 25.69046516,  33.46640106,  32.86335345,   8.94427191]])"
      ]
     },
     "execution_count": 112,
     "metadata": {},
     "output_type": "execute_result"
    }
   ],
   "source": [
    "np.sqrt(array_number_001)       #square root"
   ]
  },
  {
   "cell_type": "code",
   "execution_count": 113,
   "metadata": {},
   "outputs": [
    {
     "data": {
      "text/plain": [
       "array([[1.14200739e+026,             inf, 1.48938420e+078,\n",
       "        1.30418088e+052],\n",
       "       [3.06984964e+069, 1.30418088e+052,             inf,\n",
       "        6.32743171e+060],\n",
       "       [            inf, 1.30418088e+052, 2.89301918e+208,\n",
       "                    inf],\n",
       "       [4.30881707e+286,             inf,             inf,\n",
       "        5.54062238e+034]])"
      ]
     },
     "execution_count": 113,
     "metadata": {},
     "output_type": "execute_result"
    }
   ],
   "source": [
    "np.exp(array_number_001)        #exponential"
   ]
  },
  {
   "cell_type": "code",
   "execution_count": 114,
   "metadata": {},
   "outputs": [
    {
     "data": {
      "text/plain": [
       "array([[-0.30481062,  0.99780327, -0.80115264,  0.58061118],\n",
       "       [ 0.21942526,  0.58061118,  0.9881892 ,  0.98023966],\n",
       "       [ 0.99780327,  0.58061118,  0.61601671,  0.80028587],\n",
       "       [ 0.26243303,  0.99975317, -0.65021914, -0.99388865]])"
      ]
     },
     "execution_count": 114,
     "metadata": {},
     "output_type": "execute_result"
    }
   ],
   "source": [
    "np.sin(array_number_001)        #sine value"
   ]
  },
  {
   "cell_type": "code",
   "execution_count": 116,
   "metadata": {},
   "outputs": [
    {
     "data": {
      "text/plain": [
       "array([[   60,   900,   180,   120],\n",
       "       [  160,   120, 12040,   140],\n",
       "       [  900,   120,   480, 16860],\n",
       "       [  660,  1120,  1080,    80]])"
      ]
     },
     "execution_count": 116,
     "metadata": {},
     "output_type": "execute_result"
    }
   ],
   "source": [
    "array_number_001           #actual array doesnt change only changes when we take a copy of this in another memory"
   ]
  },
  {
   "cell_type": "code",
   "execution_count": 117,
   "metadata": {},
   "outputs": [
    {
     "data": {
      "text/plain": [
       "array([[-0.95241298,  0.0662467 , -0.59846007,  0.81418097],\n",
       "       [-0.97562931,  0.81418097,  0.15323873, -0.19781357],\n",
       "       [ 0.0662467 ,  0.81418097, -0.78773308, -0.59961865],\n",
       "       [ 0.96495021, -0.02221717,  0.75974672, -0.11038724]])"
      ]
     },
     "execution_count": 117,
     "metadata": {},
     "output_type": "execute_result"
    }
   ],
   "source": [
    "np.cos(array_number_001)"
   ]
  },
  {
   "cell_type": "code",
   "execution_count": 118,
   "metadata": {},
   "outputs": [
    {
     "data": {
      "text/plain": [
       "array([[  0.32004039,  15.06193125,   1.33869021,   0.71312301],\n",
       "       [ -0.22490638,   0.71312301,   6.44869097,  -4.95537106],\n",
       "       [ 15.06193125,   0.71312301,  -0.78201199,  -1.33465806],\n",
       "       [  0.27196536, -44.99912902,  -0.85583672,   9.00365495]])"
      ]
     },
     "execution_count": 118,
     "metadata": {},
     "output_type": "execute_result"
    }
   ],
   "source": [
    "np.tan(array_number_001)         #no cosec, cot and sec"
   ]
  },
  {
   "cell_type": "code",
   "execution_count": 123,
   "metadata": {},
   "outputs": [
    {
     "data": {
      "text/plain": [
       "array([[4.09434456, 6.80239476, 5.19295685, 4.78749174],\n",
       "       [5.07517382, 4.78749174, 9.39598972, 4.94164242],\n",
       "       [6.80239476, 4.78749174, 6.1737861 , 9.73269923],\n",
       "       [6.49223984, 7.02108396, 6.98471632, 4.38202663]])"
      ]
     },
     "execution_count": 123,
     "metadata": {},
     "output_type": "execute_result"
    }
   ],
   "source": [
    "np.log(array_number_001) "
   ]
  },
  {
   "cell_type": "code",
   "execution_count": 124,
   "metadata": {},
   "outputs": [
    {
     "data": {
      "text/plain": [
       "array(['Baseball', 'Basketball', 'Cricket', 'Football', 'Golf', 'cricket'],\n",
       "      dtype='<U10')"
      ]
     },
     "execution_count": 124,
     "metadata": {},
     "output_type": "execute_result"
    }
   ],
   "source": [
    "#Using the unique function\n",
    "sports = np.array(['Golf', 'Cricket', 'Football', 'Football','Cricket','cricket','Basketball', 'Baseball'])\n",
    "\n",
    "np.unique(sports)"
   ]
  },
  {
   "cell_type": "code",
   "execution_count": 125,
   "metadata": {},
   "outputs": [
    {
     "data": {
      "text/plain": [
       "array([False,  True,  True])"
      ]
     },
     "execution_count": 125,
     "metadata": {},
     "output_type": "execute_result"
    }
   ],
   "source": [
    "# in1d we can test values in one array - returns boolean output\n",
    "np.in1d(['Fooseball','Cricket','Baseball'],sports)"
   ]
  },
  {
   "cell_type": "code",
   "execution_count": 127,
   "metadata": {},
   "outputs": [],
   "source": [
    "#Save array on hard disk in binary format (file extension is .npy)\n",
    "np.save('array_number1', array_number_001)"
   ]
  },
  {
   "cell_type": "code",
   "execution_count": 128,
   "metadata": {},
   "outputs": [],
   "source": [
    "np.savez('array_number12', a=array_number_001,b=array_test12)  #zip"
   ]
  },
  {
   "cell_type": "code",
   "execution_count": 129,
   "metadata": {},
   "outputs": [
    {
     "data": {
      "text/plain": [
       "array([[   60,   900,   180,   120],\n",
       "       [  160,   120, 12040,   140],\n",
       "       [  900,   120,   480, 16860],\n",
       "       [  660,  1120,  1080,    80]])"
      ]
     },
     "execution_count": 129,
     "metadata": {},
     "output_type": "execute_result"
    }
   ],
   "source": [
    "np.load('array_number1.npy')"
   ]
  },
  {
   "cell_type": "code",
   "execution_count": 130,
   "metadata": {},
   "outputs": [],
   "source": [
    "#Saving the arrays as text files\n",
    "\n",
    "simple_array2 = np.array([[1,2,3,4,5,6,7],[8,9,10,11,12,13,14]])\n",
    "np.savetxt('my_text.txt',simple_array2,delimiter=',')\n"
   ]
  },
  {
   "cell_type": "code",
   "execution_count": 131,
   "metadata": {},
   "outputs": [
    {
     "data": {
      "text/plain": [
       "array([[ 1.,  2.,  3.,  4.,  5.,  6.,  7.],\n",
       "       [ 8.,  9., 10., 11., 12., 13., 14.]])"
      ]
     },
     "execution_count": 131,
     "metadata": {},
     "output_type": "execute_result"
    }
   ],
   "source": [
    "simple_array2 = np.loadtxt('my_text.txt',delimiter = ',')\n",
    "\n",
    "simple_array2"
   ]
  },
  {
   "cell_type": "code",
   "execution_count": null,
   "metadata": {},
   "outputs": [],
   "source": []
  }
 ],
 "metadata": {
  "kernelspec": {
   "display_name": "Python 3",
   "language": "python",
   "name": "python3"
  },
  "language_info": {
   "codemirror_mode": {
    "name": "ipython",
    "version": 3
   },
   "file_extension": ".py",
   "mimetype": "text/x-python",
   "name": "python",
   "nbconvert_exporter": "python",
   "pygments_lexer": "ipython3",
   "version": "3.7.4"
  }
 },
 "nbformat": 4,
 "nbformat_minor": 2
}
