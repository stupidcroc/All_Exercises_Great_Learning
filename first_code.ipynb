{
 "cells": [
  {
   "cell_type": "code",
   "execution_count": 12,
   "metadata": {},
   "outputs": [
    {
     "name": "stdout",
     "output_type": "stream",
     "text": [
      "Hello world\n",
      "Lets do it\n"
     ]
    }
   ],
   "source": [
    "print ('Hello world')\n",
    "print('Lets do it')"
   ]
  },
  {
   "cell_type": "code",
   "execution_count": 13,
   "metadata": {},
   "outputs": [],
   "source": [
    "import numpy as np\n",
    "import pandas as pd\n",
    "#numpy helps in the multidimensional array handling\n",
    "#pands -> datafrome handling\n",
    "#Matplotlib-> Visualization packages\n",
    "#Scipy-> Statistical maodel"
   ]
  },
  {
   "cell_type": "code",
   "execution_count": 26,
   "metadata": {},
   "outputs": [
    {
     "name": "stdout",
     "output_type": "stream",
     "text": [
      "c value 11\n",
      "addition 11\n",
      "subtraction -1\n",
      "multiply 30\n",
      "divide 0.8333333333333334\n",
      "float value 5.0\n",
      "hex value 0x6\n",
      "oct_val 0o70\n"
     ]
    }
   ],
   "source": [
    "#addition\n",
    "a = 5\n",
    "b = 6\n",
    "c = a + b\n",
    "print('c value',c)\n",
    "print('addition', a + b)\n",
    "\n",
    "#subtraction\n",
    "print(\"subtraction\", a - b)\n",
    "\n",
    "#multiplication\n",
    "print('multiply', a * b)\n",
    "\n",
    "#divide\n",
    "print ('divide', a / b)\n",
    "\n",
    "float_var = float(a)\n",
    "print ('float value', float_var)\n",
    "\n",
    "hex_val = hex(b)\n",
    "print ('hex value', hex_val)\n",
    "\n",
    "d = 56\n",
    "oct_val = oct(d)\n",
    "print ('oct_val' , oct_val)"
   ]
  },
  {
   "cell_type": "code",
   "execution_count": 31,
   "metadata": {},
   "outputs": [
    {
     "data": {
      "text/plain": [
       "array([1, 2, 3, 4])"
      ]
     },
     "execution_count": 31,
     "metadata": {},
     "output_type": "execute_result"
    }
   ],
   "source": [
    "#Numpy creation of matrices and the vectors array\n",
    "simple_list = [1, 2, 3, 4]\n",
    "simple_list\n",
    "np.array(simple_list)"
   ]
  },
  {
   "cell_type": "code",
   "execution_count": 39,
   "metadata": {},
   "outputs": [
    {
     "data": {
      "text/plain": [
       "array([ 0,  1,  2,  3,  4,  5,  6,  7,  8,  9, 10, 11, 12, 13, 14, 15, 16,\n",
       "       17, 18, 19, 20, 21, 22, 23, 24, 25, 26, 27, 28, 29, 30, 31, 32, 33,\n",
       "       34, 35, 36, 37, 38, 39, 40, 41, 42, 43, 44])"
      ]
     },
     "execution_count": 39,
     "metadata": {},
     "output_type": "execute_result"
    }
   ],
   "source": [
    "#creation of the range values for the same\n",
    "np.arange(0,45)"
   ]
  },
  {
   "cell_type": "code",
   "execution_count": 38,
   "metadata": {},
   "outputs": [
    {
     "data": {
      "text/plain": [
       "array([0., 0., 0., 0., 0., 0., 0., 0., 0., 0., 0., 0., 0., 0., 0., 0., 0.,\n",
       "       0., 0., 0., 0., 0., 0., 0., 0., 0., 0., 0., 0., 0., 0.])"
      ]
     },
     "execution_count": 38,
     "metadata": {},
     "output_type": "execute_result"
    }
   ],
   "source": [
    "#creation of the zeroes\n",
    "np.zeros(31)"
   ]
  },
  {
   "cell_type": "code",
   "execution_count": 37,
   "metadata": {},
   "outputs": [
    {
     "data": {
      "text/plain": [
       "array([1., 1., 1., 1., 1., 1., 1., 1., 1., 1., 1., 1., 1., 1., 1., 1., 1.,\n",
       "       1., 1., 1., 1., 1., 1., 1.])"
      ]
     },
     "execution_count": 37,
     "metadata": {},
     "output_type": "execute_result"
    }
   ],
   "source": [
    "#creation of the ones\n",
    "np.ones(24)"
   ]
  },
  {
   "cell_type": "code",
   "execution_count": 36,
   "metadata": {},
   "outputs": [
    {
     "data": {
      "text/plain": [
       "array([[1., 0., 0., 0., 0.],\n",
       "       [0., 1., 0., 0., 0.],\n",
       "       [0., 0., 1., 0., 0.],\n",
       "       [0., 0., 0., 1., 0.],\n",
       "       [0., 0., 0., 0., 1.]])"
      ]
     },
     "execution_count": 36,
     "metadata": {},
     "output_type": "execute_result"
    }
   ],
   "source": [
    "#creation of the identity matrix\n",
    "np.eye(5)"
   ]
  },
  {
   "cell_type": "code",
   "execution_count": 40,
   "metadata": {},
   "outputs": [
    {
     "data": {
      "text/plain": [
       "array([ 4,  9, 14, 19, 24, 29, 34, 39, 44, 49, 54])"
      ]
     },
     "execution_count": 40,
     "metadata": {},
     "output_type": "execute_result"
    }
   ],
   "source": [
    "#range in the step size\n",
    "np.arange(4,55,5)"
   ]
  },
  {
   "cell_type": "code",
   "execution_count": 44,
   "metadata": {},
   "outputs": [
    {
     "data": {
      "text/plain": [
       "array([0.38144307, 0.54386238, 0.16280896, 0.60262966, 0.26928371,\n",
       "       0.44868789])"
      ]
     },
     "execution_count": 44,
     "metadata": {},
     "output_type": "execute_result"
    }
   ],
   "source": [
    "#genration of the random variables\n",
    "np.random.rand(6)"
   ]
  },
  {
   "cell_type": "code",
   "execution_count": 49,
   "metadata": {},
   "outputs": [
    {
     "data": {
      "text/plain": [
       "array([[0.03612754, 0.44800519, 0.05396426, 0.93166537, 0.20861611],\n",
       "       [0.78438383, 0.76636251, 0.45695367, 0.10980404, 0.99240288],\n",
       "       [0.65287201, 0.6313469 , 0.5131815 , 0.90828774, 0.38422559],\n",
       "       [0.23731736, 0.5134759 , 0.76430545, 0.19490022, 0.98795264]])"
      ]
     },
     "execution_count": 49,
     "metadata": {},
     "output_type": "execute_result"
    }
   ],
   "source": [
    "np.random.rand(4,5)"
   ]
  },
  {
   "cell_type": "code",
   "execution_count": 50,
   "metadata": {},
   "outputs": [
    {
     "data": {
      "text/plain": [
       "array([[ 0.90738318,  0.99930702, -0.50891523, -0.21171652, -1.72551045],\n",
       "       [-0.54728822, -0.4618016 ,  0.57805073,  0.81782334, -0.09753176],\n",
       "       [ 0.18864326,  0.42049304, -0.11955838,  2.21807725, -1.05684882],\n",
       "       [-0.86411182,  0.83121455, -0.89687469,  0.75900614,  0.76474442]])"
      ]
     },
     "execution_count": 50,
     "metadata": {},
     "output_type": "execute_result"
    }
   ],
   "source": [
    "np.random.randn(4,5)"
   ]
  },
  {
   "cell_type": "code",
   "execution_count": 53,
   "metadata": {},
   "outputs": [
    {
     "data": {
      "text/plain": [
       "array([ 0.  ,  5.75, 11.5 , 17.25, 23.  ])"
      ]
     },
     "execution_count": 53,
     "metadata": {},
     "output_type": "execute_result"
    }
   ],
   "source": [
    "#generation of the equally spaced values with on actual array\n",
    "np.linspace(0,23,5)"
   ]
  },
  {
   "cell_type": "code",
   "execution_count": null,
   "metadata": {},
   "outputs": [],
   "source": []
  }
 ],
 "metadata": {
  "kernelspec": {
   "display_name": "Python 3",
   "language": "python",
   "name": "python3"
  },
  "language_info": {
   "codemirror_mode": {
    "name": "ipython",
    "version": 3
   },
   "file_extension": ".py",
   "mimetype": "text/x-python",
   "name": "python",
   "nbconvert_exporter": "python",
   "pygments_lexer": "ipython3",
   "version": "3.7.4"
  }
 },
 "nbformat": 4,
 "nbformat_minor": 2
}
